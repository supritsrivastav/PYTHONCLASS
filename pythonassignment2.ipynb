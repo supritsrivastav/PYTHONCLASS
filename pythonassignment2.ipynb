{
 "cells": [
  {
   "cell_type": "code",
   "execution_count": 2,
   "metadata": {},
   "outputs": [
    {
     "name": "stdout",
     "output_type": "stream",
     "text": [
      "Hello, Suprit\n",
      "Good Morning, Suprit\n"
     ]
    }
   ],
   "source": [
    "def greet(name, greeting=\"Hello\"):\n",
    "    return f\"{greeting},{name}\"\n",
    "\n",
    "print(greet(\"Suprit\"))           \n",
    "print(greet(\"Suprit\", \"Good Morning\"))       "
   ]
  },
  {
   "cell_type": "code",
   "execution_count": 7,
   "metadata": {},
   "outputs": [
    {
     "name": "stdout",
     "output_type": "stream",
     "text": [
      "Name : Suprit ,Age : 18, City : Lucknow\n"
     ]
    }
   ],
   "source": [
    "def create_profile(name=\"Suprit\",city=\"Lucknow\",age=\"18\"):\n",
    "    return f\"Name : {name} ,Age : {age}, City : {city}\"\n",
    "print(create_profile(\"Suprit\",\"Lucknow\"))"
   ]
  },
  {
   "cell_type": "code",
   "execution_count": 9,
   "metadata": {},
   "outputs": [
    {
     "name": "stdout",
     "output_type": "stream",
     "text": [
      "Sum of numbers(1,2,6) : 9\n",
      "Keyword arguments: {'name': 'Suprit', 'age': 22}\n"
     ]
    }
   ],
   "source": [
    "def sum_numbers(*args, **kwargs):\n",
    "    sum_of_args = 0\n",
    "    \n",
    "    # Iterate over args to sum numbers\n",
    "    for arg in args:\n",
    "        if isinstance(arg, (int, float)):\n",
    "            sum_of_args += arg\n",
    "    \n",
    "    # Return the sum of positional arguments and the keyword arguments dictionary\n",
    "    return sum_of_args, {key: value for key, value in kwargs.items()}\n",
    "\n",
    "result_sum, result_kwargs = sum_numbers(1, 2, 6,  name=\"Suprit\", age=22)\n",
    "print(\"Sum of numbers(1,2,6) :\", result_sum)     \n",
    "print(\"Keyword arguments:\", result_kwargs)  # Output: Keyword arguments: {'name': 'Suprit', 'age': 22}\n"
   ]
  },
  {
   "cell_type": "code",
   "execution_count": 13,
   "metadata": {},
   "outputs": [
    {
     "name": "stdout",
     "output_type": "stream",
     "text": [
      "square_list of ([8,3,6,15]) is :- [64, 9, 36, 225]\n"
     ]
    }
   ],
   "source": [
    "def squaring(a):\n",
    "    return list(map(lambda x: x ** 2, a))\n",
    "# Squaring the Given Elemnts of a List\n",
    "numbers = [8,3,6,15]\n",
    "squares = squaring(numbers)\n",
    "print(\"square_list of ([8,3,6,15]) is :-\",squares)\n"
   ]
  },
  {
   "cell_type": "code",
   "execution_count": 15,
   "metadata": {},
   "outputs": [
    {
     "name": "stdout",
     "output_type": "stream",
     "text": [
      "After Flitering the List [4, 22, 24, 20, 88]\n"
     ]
    }
   ],
   "source": [
    "def filteringodd_number(a):\n",
    "    return list(filter(lambda x: x%2==0, a))\n",
    "\n",
    "element =[4,5,22,24,20,3,88,77]\n",
    "evennumbers=filteringodd_number(element)\n",
    "print(\"After Flitering the List\",evennumbers)\n",
    "\n",
    "\n"
   ]
  },
  {
   "cell_type": "code",
   "execution_count": 20,
   "metadata": {},
   "outputs": [
    {
     "name": "stdout",
     "output_type": "stream",
     "text": [
      "[0, 1, 4, 9, 16, 25, 36]\n"
     ]
    }
   ],
   "source": [
    "# Creating a List that takes the number in it and returns its squares\n",
    "list=(1,7)\n",
    "square=[x**2 for x in range(7)]\n",
    "print(square)"
   ]
  },
  {
   "cell_type": "code",
   "execution_count": 22,
   "metadata": {},
   "outputs": [
    {
     "name": "stdout",
     "output_type": "stream",
     "text": [
      "List of Even Numbers:- [2, 4, 6, 8, 10, 12, 14, 16, 18, 20]\n"
     ]
    }
   ],
   "source": [
    "a=range(1,21)\n",
    "even=[x for x in a if x%2==0]\n",
    "print(\"List of Even Numbers:-\",even)"
   ]
  },
  {
   "cell_type": "code",
   "execution_count": 1,
   "metadata": {},
   "outputs": [
    {
     "name": "stdout",
     "output_type": "stream",
     "text": [
      "Directory created\n",
      "Paused for 3 seconds\n",
      "Directory deleted\n"
     ]
    }
   ],
   "source": [
    "import os\n",
    "import time\n",
    "\n",
    "def file_operation():\n",
    "    # We are creating a new directory called Test Folder\n",
    "    os.makedirs(\"Test_Folder\")\n",
    "    print(\"Directory created\")\n",
    "\n",
    "    print(\"Paused for 3 seconds\")\n",
    "    # Here we are pausing the execution for Three Seconds\n",
    "    time.sleep(3)\n",
    "    \n",
    "    # Andin this part we are deleting the Directory we had Created i.e:- \"Test_Folder\"\n",
    "    os.rmdir(\"test_folder\")\n",
    "    print(\"Directory deleted\")\n",
    "# Here We are calling the file operation Function\n",
    "file_operation()"
   ]
  },
  {
   "cell_type": "code",
   "execution_count": 24,
   "metadata": {},
   "outputs": [
    {
     "name": "stdout",
     "output_type": "stream",
     "text": [
      "Paused Execution......\n"
     ]
    }
   ],
   "source": [
    "import time\n",
    "# Creating a Pause Function\n",
    "def pause(times):\n",
    "\n",
    "    print(\"Paused Execution......\")\n",
    "    time.sleep(times)    \n",
    "# Here we are pausing the program for 5 seconds\n",
    "pause(5)"
   ]
  },
  {
   "cell_type": "code",
   "execution_count": 4,
   "metadata": {},
   "outputs": [
    {
     "name": "stdout",
     "output_type": "stream",
     "text": [
      "[1, 2, 3, 4, 5, 6]\n",
      "[1, 2, 3, 4, 5]\n"
     ]
    }
   ],
   "source": [
    "def flatten_list(nested_list, *args, **kwargs):\n",
    "    flat_list = []\n",
    "    \n",
    "    for item in nested_list:\n",
    "        if isinstance(item, list):\n",
    "            flat_list.extend(flatten_list(item, *args, **kwargs))\n",
    "        else:\n",
    "            flat_list.append(item)\n",
    "    \n",
    "\n",
    "    if 'transform' in kwargs:\n",
    "        flat_list = [kwargs['transform'](x) for x in flat_list]\n",
    "    \n",
    "    return flat_list\n",
    "\n",
    "\n",
    "print(flatten_list([1, [2, 3], [[4, 5], 6]])) \n",
    "print(flatten_list([[1, 2], [3, [4, [5]]]]))  "
   ]
  }
 ],
 "metadata": {
  "kernelspec": {
   "display_name": "Python 3",
   "language": "python",
   "name": "python3"
  },
  "language_info": {
   "codemirror_mode": {
    "name": "ipython",
    "version": 3
   },
   "file_extension": ".py",
   "mimetype": "text/x-python",
   "name": "python",
   "nbconvert_exporter": "python",
   "pygments_lexer": "ipython3",
   "version": "3.10.11"
  }
 },
 "nbformat": 4,
 "nbformat_minor": 2
}
