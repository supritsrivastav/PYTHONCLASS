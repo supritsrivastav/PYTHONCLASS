{
 "cells": [
  {
   "cell_type": "code",
   "execution_count": null,
   "metadata": {},
   "outputs": [],
   "source": [
    "import sys\n",
    "\n",
    "print('Suprit Srivastav')\n",
    "print('Master of Computer Applications')\n",
    "print(sys.version)"
   ]
  },
  {
   "cell_type": "code",
   "execution_count": null,
   "metadata": {},
   "outputs": [],
   "source": [
    "print(\"Hello,Python World\")"
   ]
  },
  {
   "cell_type": "code",
   "execution_count": null,
   "metadata": {},
   "outputs": [],
   "source": [
    "name=input(\"Enter your Full Name:\")\n",
    "name =name.strip()#It removes the blank spaces from the starting and ending of the string \n",
    "name_parts =name.split()#it splits the names from the blank spaces\n",
    "print(name_parts[len(name_parts)-1+''+name_parts[0]])\n"
   ]
  },
  {
   "cell_type": "code",
   "execution_count": null,
   "metadata": {},
   "outputs": [],
   "source": [
    "number=input(\"Enter the Number:\")\n",
    "a=int(number)#Here i store integer  in the a variable int values takes the integer value.\n",
    "b=float(number)#In this i store the float number in b variable and float takes the values in decimal.\n",
    "c=complex(number)#Here in this  ihave store te variable in c and complex number is the combination of integer+imaginary number..\n",
    "print(\"Integer:\",a)\n",
    "print(\"Float:\",b)\n",
    "print(\"Complex:\",c)\n"
   ]
  },
  {
   "cell_type": "code",
   "execution_count": null,
   "metadata": {},
   "outputs": [],
   "source": [
    "length=float(input(\"Enter the length of Rectangle:\"))\n",
    "breadth=float(input(\"Enter the Breadth of Rectangle:\"))\n",
    "area=length*breadth\n",
    "print(\"The area of the rectangle \",area)\n",
    "\n"
   ]
  },
  {
   "cell_type": "code",
   "execution_count": null,
   "metadata": {},
   "outputs": [],
   "source": [
    "length = float(input(\"Enter the length of the rectangle: \"))\n",
    "width = float(input(\"Enter the width of the rectangle: \"))\n",
    "\n",
    "area = length * width\n",
    "area_text = \"The area of the rectangle is {0:.2f}\"\n",
    "\n",
    "print(area_text.format(area))"
   ]
  },
  {
   "cell_type": "code",
   "execution_count": null,
   "metadata": {},
   "outputs": [],
   "source": [
    "a=float(input(\"Enter the First Number:\"))\n",
    "b=float(input(\"Enter the Second Number:\"))\n",
    "c=float(input(\"Enter the Third Number:\"))\n",
    "average=(a+b+c)/3\n",
    "print(\"The average of the three numbers is: %.2f\" % average)\n"
   ]
  },
  {
   "cell_type": "code",
   "execution_count": null,
   "metadata": {},
   "outputs": [],
   "source": [
    "while True:\n",
    "    user_input = input(\"Enter a number: \")\n",
    "    if user_input != \"exit\":\n",
    "        number = int(user_input)\n",
    "        if number > 0:\n",
    "            print(\"Positive\")\n",
    "        elif number < 0:\n",
    "            print(\"Negative\")\n",
    "        else:\n",
    "            print(\"Zero\")\n",
    "        continue\n",
    "    break"
   ]
  },
  {
   "cell_type": "code",
   "execution_count": null,
   "metadata": {},
   "outputs": [],
   "source": [
    "a=int(input(\"Enter the First Number:\"))\n",
    "b=int(input(\"Enter the Second Number:\"))\n",
    "if a % 2 == 0 and b % 2 == 0:\n",
    "    print(\"Both Numbers are Even Numbers:\")\n",
    "elif a%2 != 0 and b%2 != 0:\n",
    "    print(\"Both Numbers are the Odd Numbers:\")\n",
    "else:\n",
    "    if a%2==0:\n",
    "        print(f\"{a} is even and {b}is odd.\")\n",
    "    else:\n",
    "        print(f\"{a} is odd 6 and {b} is even\")"
   ]
  },
  {
   "cell_type": "code",
   "execution_count": null,
   "metadata": {},
   "outputs": [],
   "source": [
    "number = int(input(\"Enter an integer: \"))\n",
    "\n",
    "def convert_number(num):\n",
    "    # Binary conversion\n",
    "    binary = \"\"\n",
    "    temp = num\n",
    "    for _ in range(num.bit_length()):\n",
    "        binary = str(temp & 1) + binary\n",
    "        temp = temp >> 1\n",
    "\n",
    "    # Octal conversion\n",
    "    octal = \"\"\n",
    "    temp = num\n",
    "    for _ in range((num.bit_length() + 2) // 3):\n",
    "        octal = str(temp & 7) + octal\n",
    "        temp = temp >> 3\n",
    "\n",
    "    # Hexadecimal conversion\n",
    "    hex_chars = \"0123456789ABCDEF\"\n",
    "    hexadecimal = \"\"\n",
    "    temp = num\n",
    "    for _ in range((num.bit_length() + 3) // 4):\n",
    "        hexadecimal = hex_chars[temp & 15] + hexadecimal\n",
    "        temp = temp >> 4\n",
    "\n",
    "    return binary, octal, hexadecimal\n",
    "\n",
    "binary, octal, hexadecimal = convert_number(number)\n",
    "print(f\"Binary: {binary}\")#\n",
    "print(f\"Octal: {octal}\")\n",
    "print(f\"Hexadecimal: {hexadecimal}\")"
   ]
  }
 ],
 "metadata": {
  "language_info": {
   "name": "python"
  }
 },
 "nbformat": 4,
 "nbformat_minor": 2
}
